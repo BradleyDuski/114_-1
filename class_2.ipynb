{
 "cells": [
  {
   "cell_type": "markdown",
   "id": "5b922efa",
   "metadata": {},
   "source": [
    "# Class 2 - Big O Notation, Stacks and Queues\n",
    "\n",
    "## Problem 2\n",
    "\n",
    "### Anagram check\n",
    "\n",
    "Create a function that takes two strings as parameters and returns True if they are anagrams of each other, False otherwise. \n",
    "\n",
    "\n",
    "\n",
    "examples 1. heart and earth\n",
    "2. scar and cars\n",
    "3. star and rats \n",
    "### Criteria \n",
    "\n",
    "Two strings are anagrams of each other if and only if all the criteria below are met:\n",
    "1. They must use all the same characters\n",
    "2. They must be exactly the same length of characters. "
   ]
  },
  {
   "cell_type": "code",
   "execution_count": 1,
   "id": "69bb7d1f",
   "metadata": {},
   "outputs": [
    {
     "data": {
      "text/plain": [
       "True"
      ]
     },
     "execution_count": 1,
     "metadata": {},
     "output_type": "execute_result"
    }
   ],
   "source": [
    "def check_anagrams(w1,w2):\n",
    "    w1 = w1.lower().replace(\" \", \"\")\n",
    "    w2 = w2.lower().replace(\" \",\"\")\n",
    "    word = {}\n",
    "    word2 = {}\n",
    "    if len(w1) == len(w2):\n",
    "        for letter in w1:\n",
    "            if word.get(letter):\n",
    "                word[letter]+=1\n",
    "            else:\n",
    "                word[letter] = 1\n",
    "\n",
    "        for letter in w2:\n",
    "            if word2.get(letter):\n",
    "                word2[letter]+=1\n",
    "            else:\n",
    "                word2[letter] = 1\n",
    "\n",
    "        return word == word2\n",
    "    else:\n",
    "        return false\n",
    "\n",
    "check_anagrams(\"scar\",\"cars\")"
   ]
  }
 ],
 "metadata": {
  "kernelspec": {
   "display_name": "venv",
   "language": "python",
   "name": "python3"
  },
  "language_info": {
   "codemirror_mode": {
    "name": "ipython",
    "version": 3
   },
   "file_extension": ".py",
   "mimetype": "text/x-python",
   "name": "python",
   "nbconvert_exporter": "python",
   "pygments_lexer": "ipython3",
   "version": "3.12.3"
  }
 },
 "nbformat": 4,
 "nbformat_minor": 5
}
