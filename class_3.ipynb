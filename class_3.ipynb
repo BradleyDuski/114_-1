{
 "cells": [
  {
   "cell_type": "markdown",
   "id": "c3bfca49",
   "metadata": {},
   "source": [
    "Class 3 - Stacks and Queues\n",
    "\n",
    "## Stack\n",
    "A stack is an ordered collection of elements where items are added and removed from one end, commonly referred to as the \"top\".\n",
    "The ordering principle is referred to as LIFO (Last in, first out)\n",
    "\n",
    "## Queue\n",
    "A queue is an ordered collection of elements where items are added and removed from \"opposite\" ends, commonly referred to as the \"front\" and \"back\" or \"rear\" of the queue. The ordering principal is referred to as FIFO (First in, First out) or \"first come first served.\""
   ]
  },
  {
   "cell_type": "code",
   "execution_count": 1,
   "id": "685701ed",
   "metadata": {},
   "outputs": [],
   "source": [
    "class Stack:\n",
    "    def __init__(self):\n",
    "        self.items = []\n",
    "\n",
    "    def push(self,elements):\n",
    "        self.items.append(elements)\n",
    "\n",
    "    def pop(self):\n",
    "        return self.items.pop()\n",
    "\n",
    "    def peek(self):\n",
    "        return self.items[len(self.items)-1]\n",
    "\n",
    "    def size(self):\n",
    "        return len(self.items)\n",
    "\n",
    "    def is_empty(self):\n",
    "        return self.items == []"
   ]
  },
  {
   "cell_type": "code",
   "execution_count": 2,
   "id": "69048f10",
   "metadata": {},
   "outputs": [
    {
     "name": "stdout",
     "output_type": "stream",
     "text": [
      "[10, 20, 23, 19, 40]\n",
      "False\n",
      "2\n",
      "20\n"
     ]
    }
   ],
   "source": [
    "stack = Stack()\n",
    "stack.push(10)\n",
    "stack.push(20)\n",
    "stack.push(23)\n",
    "stack.push(19)\n",
    "stack.push(40)\n",
    "\n",
    "print(stack.items)\n",
    "\n",
    "stack.pop()\n",
    "stack.pop()\n",
    "stack.pop()\n",
    "\n",
    "print(stack.is_empty())\n",
    "\n",
    "print(stack.size())\n",
    "\n",
    "print(stack.peek())"
   ]
  },
  {
   "cell_type": "markdown",
   "id": "3df9c3aa",
   "metadata": {},
   "source": [
    "problem 3\n",
    "\n",
    "### use the stack class above to invert a string\n",
    "\n",
    "```\n",
    "Example:\n",
    "given \"Luis\" your function should return \"siul\".\n",
    "\n",
    "criteria:\n",
    "Your function must receive a string as a paramteter and return a string(not a list)"
   ]
  },
  {
   "cell_type": "code",
   "execution_count": 3,
   "id": "3dcc247d",
   "metadata": {},
   "outputs": [
    {
     "data": {
      "text/plain": [
       "'sixelA'"
      ]
     },
     "execution_count": 3,
     "metadata": {},
     "output_type": "execute_result"
    }
   ],
   "source": [
    "def invert_word(word): #word = Data Structures\n",
    "    stack = Stack()\n",
    "    out = \"\"\n",
    "    for letter in word: # D a t a S t r u c t u r e s\n",
    "        stack.push(letter) # ['D','a']\n",
    "    while not stack.is_empty(): #False -> True\n",
    "        out += stack.pop() # serutu\n",
    "    return out\n",
    "invert_word(\"Alexis\")\n"
   ]
  },
  {
   "cell_type": "markdown",
   "id": "ffe7a60e",
   "metadata": {},
   "source": []
  },
  {
   "cell_type": "code",
   "execution_count": null,
   "id": "c441056b",
   "metadata": {},
   "outputs": [],
   "source": [
    "class Node:\n",
    "    def __init__(self,data,below):\n",
    "        self.data = data\n",
    "        self.below = below\n",
    "\n",
    "    class CStack:\n",
    "        def __init__(self):\n",
    "            self.top = None\n",
    "\n",
    "        def push(self,data):\n",
    "            if self.top is None:\n",
    "                node = Node(data,self.top)\n",
    "                self.top = node\n",
    "            else:\n",
    "                new_node = Node(data,self.top)\n",
    "                self.top = new_node\n",
    "\n",
    "            def pop(self):\n",
    "                if self.top is None:\n",
    "                    raise IndexError(\"Stack is Empty\")\n",
    "                else:\n",
    "                    node = self.top.data\n",
    "                    self.top = self.top.below\n",
    "                    return node\n",
    "                \n",
    "            def is_empty(self):\n",
    "                return self.top == None\n",
    "\n",
    "\n",
    "    stack = CStack()\n",
    "    stack.push(20)\n",
    "    print(\"\")\n",
    "    stack.push(21)\n",
    "    print(\"\")\n",
    "    stack.push(30)\n",
    "    print(\"\")"
   ]
  }
 ],
 "metadata": {
  "kernelspec": {
   "display_name": "venv",
   "language": "python",
   "name": "python3"
  },
  "language_info": {
   "codemirror_mode": {
    "name": "ipython",
    "version": 3
   },
   "file_extension": ".py",
   "mimetype": "text/x-python",
   "name": "python",
   "nbconvert_exporter": "python",
   "pygments_lexer": "ipython3",
   "version": "3.12.3"
  }
 },
 "nbformat": 4,
 "nbformat_minor": 5
}
