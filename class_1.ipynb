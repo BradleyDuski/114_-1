{
 "cells": [
  {
   "cell_type": "markdown",
   "id": "2e5defc4",
   "metadata": {},
   "source": [
    "#FSDI 114 - Class 1: Jupyter Introduction and Problem Solving\n"
   ]
  },
  {
   "cell_type": "markdown",
   "id": "bb8c561d",
   "metadata": {},
   "source": [
    "# Problem 1\n",
    "\n",
    "### Find the total of numbers from a collection that divided by 2 the module is 0.\n",
    "\n",
    "\n",
    "1. Given [3,4,10,15,999,2] Then the output should be:total= 3\n",
    "\n",
    "2.Given [2,4,6,10,3.7] Then the output should be:total=4\n",
    "\n",
    "### Criteria \n",
    "1. Create a function that receives a collection and return an integer with the total"
   ]
  },
  {
   "cell_type": "code",
   "execution_count": 2,
   "id": "b416c55b",
   "metadata": {},
   "outputs": [
    {
     "name": "stdout",
     "output_type": "stream",
     "text": [
      "3\n"
     ]
    }
   ],
   "source": [
    "numbers = [3,5,27,20,6,3.5,60]\n",
    "count = sum(1 for number in numbers if isinstance(number, (int, float)) and number % 2 == 0)\n",
    "print (count)\n",
    "\n",
    "\n",
    "  "
   ]
  },
  {
   "cell_type": "code",
   "execution_count": 4,
   "id": "18f92f03",
   "metadata": {},
   "outputs": [
    {
     "data": {
      "text/plain": [
       "3"
      ]
     },
     "execution_count": 4,
     "metadata": {},
     "output_type": "execute_result"
    }
   ],
   "source": [
    "def module_check(collection):\n",
    "    c=0\n",
    "    for n in collection:\n",
    "        if n % 2==0:\n",
    "            c+=1\n",
    "    return c\n",
    "        \n",
    "module_check([3,5,27,20,6,3.5,60])\n"
   ]
  }
 ],
 "metadata": {
  "kernelspec": {
   "display_name": "venv",
   "language": "python",
   "name": "python3"
  },
  "language_info": {
   "codemirror_mode": {
    "name": "ipython",
    "version": 3
   },
   "file_extension": ".py",
   "mimetype": "text/x-python",
   "name": "python",
   "nbconvert_exporter": "python",
   "pygments_lexer": "ipython3",
   "version": "3.12.3"
  }
 },
 "nbformat": 4,
 "nbformat_minor": 5
}
