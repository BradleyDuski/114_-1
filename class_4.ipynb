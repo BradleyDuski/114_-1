{
 "cells": [
  {
   "cell_type": "markdown",
   "id": "110dc9d6",
   "metadata": {},
   "source": [
    "Class 4 - Linked Lists (SLL - Single Linked Lists and Double Linked Lists)\n",
    "\n",
    "Differences between arrays and Linked Lists:\n",
    "1. We don't need to pre allocate space\n",
    "2. Insertions are easy"
   ]
  },
  {
   "cell_type": "code",
   "execution_count": null,
   "id": "25541d5c",
   "metadata": {},
   "outputs": [
    {
     "name": "stdout",
     "output_type": "stream",
     "text": [
      "[298, 305, 301, 320, 292]\n"
     ]
    }
   ],
   "source": [
    "# Iteration and elements o(n)\n",
    "stock_prices = [298,305,301,320,292]\n",
    "print(stock_prices)"
   ]
  },
  {
   "cell_type": "code",
   "execution_count": 10,
   "id": "5d21db84",
   "metadata": {},
   "outputs": [
    {
     "name": "stdout",
     "output_type": "stream",
     "text": [
      "51-->50-->30-->20-->1-->2-->\n",
      "6\n"
     ]
    }
   ],
   "source": [
    "# Node -> [data| link]\n",
    "\n",
    "class Node: \n",
    "    def __init__(self,data,next):\n",
    "        self.data = data\n",
    "        self.next = next\n",
    "\n",
    "class LinkedList:\n",
    "    def __init__(self):\n",
    "        self.head = None\n",
    "\n",
    "    def insert_at_beginning(self,data):\n",
    "        node = Node(data, self.head)\n",
    "        self.head = node\n",
    "\n",
    "    def insert_at_end(self,data):\n",
    "        if self.head is None:\n",
    "            self.head = Node(data,None)\n",
    "            return \n",
    "        \n",
    "        itr = self.head\n",
    "        while itr.next:\n",
    "            itr = itr.next\n",
    "\n",
    "        itr.next = Node(data,None)\n",
    "\n",
    "\n",
    "    def insert_at(self,index,data):\n",
    "        if index < 0 or index >= self.length():\n",
    "            raise IndexError(\"Out of Bounds\")\n",
    "        if index == 0:\n",
    "            self.insert_at_beginning(data)\n",
    "            return\n",
    "        count = 0\n",
    "        itr = self.head\n",
    "        while itr:\n",
    "            if count == index - 1:\n",
    "                node = Node(data, itr.next)\n",
    "                itr.next = node\n",
    "                break\n",
    "            itr = itr.next\n",
    "            count += 1\n",
    "\n",
    "\n",
    "\n",
    "    def print(self):\n",
    "        \n",
    "        if self.head is None:\n",
    "            print(\"Linked list is empty\")\n",
    "            return\n",
    "        itr = self.head\n",
    "        listr = ''\n",
    "        while itr:\n",
    "            listr += str(itr.data)+ '-->'\n",
    "            itr = itr.next\n",
    "        print(listr)\n",
    "\n",
    "    def length(self):\n",
    "        count = 0\n",
    "        itr = self.head\n",
    "        while itr:\n",
    "            count += 1\n",
    "            itr = itr.next \n",
    "        return count\n",
    "    \n",
    "    \n",
    "example_11 = LinkedList()\n",
    "example_11.insert_at_beginning(2)\n",
    "example_11.insert_at_beginning(1)\n",
    "example_11.insert_at_beginning(20)\n",
    "example_11.insert_at_beginning(30)\n",
    "example_11.insert_at_beginning(50)\n",
    "example_11.insert_at_beginning(51)\n",
    "example_11.print()\n",
    "print(example_11.length())\n"
   ]
  },
  {
   "cell_type": "code",
   "execution_count": null,
   "id": "da6d3c1b",
   "metadata": {},
   "outputs": [],
   "source": []
  }
 ],
 "metadata": {
  "kernelspec": {
   "display_name": "venv",
   "language": "python",
   "name": "python3"
  },
  "language_info": {
   "codemirror_mode": {
    "name": "ipython",
    "version": 3
   },
   "file_extension": ".py",
   "mimetype": "text/x-python",
   "name": "python",
   "nbconvert_exporter": "python",
   "pygments_lexer": "ipython3",
   "version": "3.12.3"
  }
 },
 "nbformat": 4,
 "nbformat_minor": 5
}
